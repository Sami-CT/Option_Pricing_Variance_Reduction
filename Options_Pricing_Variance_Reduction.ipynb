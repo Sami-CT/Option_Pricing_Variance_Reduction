{
 "cells": [
  {
   "cell_type": "markdown",
   "metadata": {},
   "source": [
    "ME200, Johannes Ruf and Luitgard Veraart"
   ]
  },
  {
   "cell_type": "markdown",
   "metadata": {},
   "source": [
    "# Day 11: Option pricing with variance reduction methods in Python"
   ]
  },
  {
   "cell_type": "code",
   "execution_count": 1,
   "metadata": {},
   "outputs": [],
   "source": [
    "import numpy as np\n",
    "import matplotlib.pyplot as plt\n",
    "from scipy.stats import norm"
   ]
  },
  {
   "cell_type": "code",
   "execution_count": 2,
   "metadata": {},
   "outputs": [],
   "source": [
    "rng = np.random.default_rng(12345)"
   ]
  },
  {
   "cell_type": "markdown",
   "metadata": {},
   "source": [
    "For comparison purpose we reuse the functions that compute the analytical time-$0$ price of a European call option using the Black-Scholes option pricing formula and the function that approximates this price using a standard Monte Carlo estimator from the previous notbook. \n"
   ]
  },
  {
   "cell_type": "code",
   "execution_count": 3,
   "metadata": {},
   "outputs": [],
   "source": [
    "def black_scholes_call(S0, K, r, T, sigma):\n",
    "    d1 = (np.log(S0 / K) + (r + 0.5 * sigma**2) * T)/(sigma * np.sqrt(T))\n",
    "    d2 = d1 - sigma * np.sqrt(T)\n",
    "    tmp1 = S0 * norm.cdf(d1, loc=0, scale=1)\n",
    "    tmp2 = K * np.exp(-r * T) * norm.cdf(d2, loc=0, scale=1)\n",
    "    price = tmp1 - tmp2\n",
    "    return price\n",
    "\n",
    "def terminal_stockprice(rng, S0, T, r, sigma, samplesize):\n",
    "    mystandardnormalsample = rng.standard_normal(size=samplesize)\n",
    "    tmp1 = (r - 0.5*(sigma ** 2)) * T\n",
    "    tmp2 = sigma * np.sqrt(T) * mystandardnormalsample\n",
    "    stockprice = S0 * np.exp(tmp1 + tmp2)\n",
    "    return stockprice\n",
    "\n",
    "def bs_call_mc(rng, S0, K, T, r, sigma, samplesize, myepsilon):\n",
    "    # Generate terminal stock prices.\n",
    "    mystockprice = terminal_stockprice(rng, S0, T, r, sigma, samplesize)\n",
    "    # Compute payoffs.\n",
    "    payoffs = np.maximum(mystockprice - K, 0)\n",
    "    # Discount payoffs\n",
    "    discountedpayoffs = np.exp(- r * T)*payoffs\n",
    "    # Compute MC price\n",
    "    price = np.mean(discountedpayoffs)\n",
    "    # Compute confidence interval next\n",
    "    standarddev_rv = np.std(discountedpayoffs, ddof=1)\n",
    "    standarddev_mcest = standarddev_rv / np.sqrt(samplesize)\n",
    "    aepsilon = norm.ppf(1.0 - myepsilon * 0.5)\n",
    "    # Left boundary of CI\n",
    "    ci_left = price - aepsilon * standarddev_mcest\n",
    "    # Right boundary of CI\n",
    "    ci_right = price + aepsilon * standarddev_mcest\n",
    "    return price, standarddev_mcest, ci_left, ci_right"
   ]
  },
  {
   "cell_type": "markdown",
   "metadata": {},
   "source": [
    "We consider one example for different estimators. "
   ]
  },
  {
   "cell_type": "code",
   "execution_count": 4,
   "metadata": {},
   "outputs": [],
   "source": [
    "# Defining some model parameters\n",
    "S0 = 50.0\n",
    "K = 50.0\n",
    "T = 0.25\n",
    "r = 0.05\n",
    "sigma = 0.3\n",
    "halfsamplesize = 100000\n",
    "samplesize = 2 * halfsamplesize\n",
    "myepsilon = 0.05"
   ]
  },
  {
   "cell_type": "code",
   "execution_count": 5,
   "metadata": {},
   "outputs": [
    {
     "name": "stdout",
     "output_type": "stream",
     "text": [
      "----------------\n",
      "The analytical option price is 3.2915\n",
      "-----------------\n",
      "MC price: 3.2909 and stdev of MC est: 0.0112\n",
      "CI based on MC is (3.2691, 3.3128)\n"
     ]
    }
   ],
   "source": [
    "print('----------------')\n",
    "print('The analytical option price is {:.4f}'.format(black_scholes_call(S0, K, r, T, sigma)))\n",
    "print('-----------------')\n",
    "MCresults = bs_call_mc(rng, S0, K, T, r, sigma, samplesize, myepsilon)\n",
    "print('MC price: {:.4f} and stdev of MC est: {:.4f}'.format(MCresults[0], MCresults[1]))\n",
    "print('CI based on MC is ({:.4f}, {:.4f})'.format(MCresults[2], MCresults[3]))\n"
   ]
  },
  {
   "cell_type": "markdown",
   "metadata": {},
   "source": [
    "Note, that we multiplied the sample size by 2 above, to be able to make a fair comparison with the antithetic variate estimator later. "
   ]
  },
  {
   "cell_type": "markdown",
   "metadata": {},
   "source": [
    "## Control variates to price a European call in the Black-Scholes model"
   ]
  },
  {
   "cell_type": "code",
   "execution_count": 6,
   "metadata": {},
   "outputs": [],
   "source": [
    "def bs_call_cv(rng, S0, K, T, r, sigma, samplesize, myepsilon):\n",
    "    \"\"\" Control variate estimation for European call price in BS model.\"\"\"\n",
    "    # Generate terminal stock prices.\n",
    "    mystockprice = terminal_stockprice(rng, S0, T, r, sigma, samplesize)\n",
    "    # Compute payoffs.\n",
    "    payoffs = np.maximum(mystockprice - K, 0)\n",
    "    # Discount payoffs\n",
    "    discountedpayoffs = np.exp(- r * T)*payoffs\n",
    "    # Use discounted stock as control\n",
    "    xs = np.exp(- r * T) * mystockprice\n",
    "    # Compute sample version of b*\n",
    "    bstar = np.cov(xs, discountedpayoffs, ddof=1)[0, 1] / np.var(xs, ddof=1)\n",
    "    # print(\"In cv bstar=\", bstar)\n",
    "    # Define z= Y(bstar)\n",
    "    z = discountedpayoffs - bstar * (xs - S0)\n",
    "    # Compute MC price\n",
    "    price = np.mean(z)\n",
    "    # Compute confidence interval next\n",
    "    standarddev_rv = np.std(z, ddof=1)\n",
    "    standarddev_cvest = standarddev_rv / np.sqrt(samplesize)\n",
    "    aepsilon = norm.ppf(1.0 - myepsilon * 0.5)\n",
    "    # Left boundary of CI\n",
    "    ci_left = price - aepsilon * standarddev_cvest\n",
    "    # Right boundary of CI\n",
    "    ci_right = price + aepsilon * standarddev_cvest\n",
    "    # Compute the squared correation rhosquared\n",
    "    tmpcov = np.cov(xs, discountedpayoffs, ddof=1)[0, 1]\n",
    "    tmpvarx = np.var(xs, ddof=1)\n",
    "    tmpvary = np.var(discountedpayoffs, ddof=1)\n",
    "    rhosquared = (tmpcov ** 2) / (tmpvarx * tmpvary)\n",
    "    return price, standarddev_cvest, ci_left, ci_right, rhosquared"
   ]
  },
  {
   "cell_type": "code",
   "execution_count": 7,
   "metadata": {},
   "outputs": [
    {
     "name": "stdout",
     "output_type": "stream",
     "text": [
      "----------------\n",
      "CV price: 3.2919 and stdev of CV est 0.0050:\n",
      "CI based on CV is (3.2822, 3.3017)\n",
      "Note that rhosquared is 0.8016\n"
     ]
    }
   ],
   "source": [
    "print('----------------')\n",
    "CVresults = bs_call_cv(rng, S0, K, T, r, sigma, samplesize, myepsilon)\n",
    "print('CV price: {:.4f} and stdev of CV est {:.4f}:'.format(CVresults[0], CVresults[1]))\n",
    "print('CI based on CV is ({:.4f}, {:.4f})'.format (CVresults[2], CVresults[3]))\n",
    "print('Note that rhosquared is {:.4f}'.format(CVresults[4]))"
   ]
  },
  {
   "cell_type": "markdown",
   "metadata": {},
   "source": [
    "### Sensitivity of the correlation in the CV estimator with respect to the strike"
   ]
  },
  {
   "cell_type": "markdown",
   "metadata": {},
   "source": [
    "We consider the sensitivity of rho and rhosquared related to the control\n",
    "variate estimator with respect to the strike price.\n",
    "We consider the same model parameters as in Glasserman(2004; p. 189) and will reproduce the results reported there. "
   ]
  },
  {
   "cell_type": "code",
   "execution_count": 8,
   "metadata": {},
   "outputs": [],
   "source": [
    "S0 = 50\n",
    "T = 0.25\n",
    "r = 0.05\n",
    "sigma = 0.3\n",
    "samplesize = 200000\n",
    "numberofk = 100\n",
    "strikes = np.linspace(start=0, stop=80, num=numberofk)\n",
    "rhosquared = np.zeros(numberofk)\n",
    "rho = np.zeros(numberofk)"
   ]
  },
  {
   "cell_type": "code",
   "execution_count": 9,
   "metadata": {},
   "outputs": [
    {
     "data": {
      "image/png": "[encoded data removed]",
      "text/plain": [
       "<Figure size 432x288 with 1 Axes>"
      ]
     },
     "metadata": {
      "needs_background": "light"
     },
     "output_type": "display_data"
    }
   ],
   "source": [
    "# Generate stockprice\n",
    "myst = terminal_stockprice(rng, S0, T, r, sigma, samplesize)\n",
    "mystockprice = myst\n",
    "\n",
    "for i in range(numberofk):\n",
    "    k = strikes[i]\n",
    "    # Compute payoffs.\n",
    "    payoffs = np.maximum(mystockprice - k, 0)\n",
    "    # Discount payoffs\n",
    "    discountedpayoffs = np.exp(- r * T)*payoffs\n",
    "    # Define variable y for control variate estimator\n",
    "    ys = discountedpayoffs\n",
    "    # Use discounted stock as control\n",
    "    xs = np.exp(- r * T) * mystockprice\n",
    "    rho[i] = np.corrcoef(xs, ys)[0, 1]\n",
    "    rhosquared[i] = rho[i] ** 2\n",
    "\n",
    "fig, ax = plt.subplots()\n",
    "ax.plot(strikes, rhosquared, c=\"blue\")\n",
    "ax.set_xlabel(\"strike\")\n",
    "ax.set_ylabel(r\"$\\rho^2$\")\n",
    "ax.set_title(\"Squared correlation of discounted payoff and discounted stock\")\n",
    "plt.show() "
   ]
  },
  {
   "cell_type": "markdown",
   "metadata": {},
   "source": [
    "Hence, we see that for small strikes there is a strong correlation between the discounted payoff and the discounted stock price, but this decreases significantly for larger strikes. "
   ]
  },
  {
   "cell_type": "markdown",
   "metadata": {},
   "source": [
    "## Antithetic variates to price a European call in the Black-Scholes model\n",
    "We consider the antithetic pair $(X, -X)$ where  $X\\sim \\mathcal{N}_1(0, 1)$. For the stock price this implies that we consider pairs of the form $(S^{(1)}, S^{(2)})$, where\n",
    "\\begin{align*}\n",
    "S^{(1)} & = S_0 \\exp( (r - 0.5 \\sigma^2) T + \\sigma \\sqrt{T} X), \\\\\n",
    "S^{(2)} & = S_0 \\exp( (r - 0.5 \\sigma^2) T + \\sigma \\sqrt{T} (-X)) \n",
    "\\end{align*}\n",
    "and we will use them to compute the corresponding discounted payoffs. "
   ]
  },
  {
   "cell_type": "code",
   "execution_count": 10,
   "metadata": {},
   "outputs": [],
   "source": [
    "def terminal_stockprice_av(rng, S0, T, r, sigma, halfsamplesize):\n",
    "    \"\"\"Function computes terminal stock prices based on antithetic pairs. \"\"\"\n",
    "    mynormals1 = rng.standard_normal(halfsamplesize)\n",
    "    mynormals2 = - mynormals1\n",
    "    tmp1 = (r - 0.5*sigma ** 2) * T\n",
    "    tmp2 = sigma * np.sqrt(T) * mynormals1\n",
    "    tmp3 = sigma * np.sqrt(T) * mynormals2\n",
    "    stockprice1 = S0 * np.exp(tmp1 + tmp2)\n",
    "    stockprice2 = S0 * np.exp(tmp1 + tmp3)\n",
    "    allstockprices = np.concatenate((stockprice1, stockprice2))\n",
    "    return stockprice1, stockprice2, allstockprices"
   ]
  },
  {
   "cell_type": "code",
   "execution_count": 11,
   "metadata": {},
   "outputs": [],
   "source": [
    "def bs_call_av(rng, S0, K, T, r, sigma, halfsamplesize, myepsilon):\n",
    "    \"\"\" Antithethic variate estimation for European call price in BS model.\"\"\"\n",
    "    # Note that 2*halfsamplesize random variables will be used in the AV estimator.\n",
    "    # Generate terminal stock prices.\n",
    "    mystockprices = terminal_stockprice_av(rng, S0, T, r, sigma, halfsamplesize)\n",
    "    # Compute payoffs.\n",
    "    payoffs1 = np.maximum(mystockprices[0] - K, 0)\n",
    "    payoffs2 = np.maximum(mystockprices[1] - K, 0)\n",
    "    # Discount payoffs\n",
    "    discpayoffs1 = np.exp(- r * T)*payoffs1\n",
    "    discpayoffs2 = np.exp(- r * T)*payoffs2\n",
    "    thecov = np.cov(discpayoffs1, discpayoffs2, ddof=1)[0, 1]\n",
    "    possiblereduction = thecov / (2 * halfsamplesize)\n",
    "    discpayoffs = np.concatenate((discpayoffs1, discpayoffs2))\n",
    "    price = np.mean(discpayoffs)\n",
    "    standarddev_rv = np.std(discpayoffs, ddof=1)\n",
    "    standarddev_avest = standarddev_rv / np.sqrt(2*halfsamplesize)\n",
    "    aepsilon = norm.ppf(1.0 - myepsilon * 0.5)\n",
    "    ci_left = price - aepsilon * standarddev_avest\n",
    "    ci_right = price + aepsilon * standarddev_avest\n",
    "    return price, standarddev_avest, ci_left, ci_right, possiblereduction"
   ]
  },
  {
   "cell_type": "code",
   "execution_count": 12,
   "metadata": {},
   "outputs": [
    {
     "name": "stdout",
     "output_type": "stream",
     "text": [
      "----------------\n",
      "AV price: 3.2916 and stdev of AV est 0.0112:\n",
      "CI based on AV is (3.2698, 3.3135)\n",
      "Note that sample covariance/(2n) is -0.0001\n"
     ]
    }
   ],
   "source": [
    "print('----------------')\n",
    "AVresults = bs_call_av(rng, S0, K, T, r, sigma, halfsamplesize, myepsilon)\n",
    "print('AV price: {:.4f} and stdev of AV est {:.4f}:'.format(AVresults[0], AVresults[1]))\n",
    "print('CI based on AV is ({:.4f}, {:.4f})'.format(AVresults[2], AVresults[3]))\n",
    "print('Note that sample covariance/(2n) is {:.4f}'.format(AVresults[4]))"
   ]
  },
  {
   "cell_type": "markdown",
   "metadata": {},
   "source": [
    "We see that the AV estimate is very close to the analytical option price. In this example, we see that $cov(Z^{(1)}, Z^{(2)})/2n$, where\n",
    "\\begin{align*}\n",
    "Z^{(1)}& = e^{-rT} \\left(S_0 \\exp( (r - 0.5 \\sigma^2) T + \\sigma \\sqrt{T} X) - K \\right)^+, \\\\\n",
    "Z^{(2)}& = e^{-rT} \\left(S_0 \\exp( (r - 0.5 \\sigma^2) T + \\sigma \\sqrt{T} (-X)) - K \\right)^+, \n",
    "\\end{align*}\n",
    "is negative but very close to zero. "
   ]
  },
  {
   "cell_type": "code",
   "execution_count": null,
   "metadata": {},
   "outputs": [],
   "source": []
  },
  {
   "cell_type": "code",
   "execution_count": null,
   "metadata": {},
   "outputs": [],
   "source": []
  }
 ],
 "metadata": {
  "anaconda-cloud": {},
  "kernelspec": {
   "display_name": "Python 3",
   "language": "python",
   "name": "python3"
  },
  "language_info": {
   "codemirror_mode": {
    "name": "ipython",
    "version": 3
   },
   "file_extension": ".py",
   "mimetype": "text/x-python",
   "name": "python",
   "nbconvert_exporter": "python",
   "pygments_lexer": "ipython3",
   "version": "3.8.8"
  }
 },
 "nbformat": 4,
 "nbformat_minor": 1
}
